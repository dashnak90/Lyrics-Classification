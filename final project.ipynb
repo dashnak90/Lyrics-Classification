{
 "cells": [
  {
   "cell_type": "code",
   "execution_count": 1,
   "source": [
    "import requests\n",
    "import re\n",
    "from bs4 import BeautifulSoup\n",
    "import pandas as pd\n",
    "\n",
    "from sklearn.model_selection import train_test_split\n",
    "from sklearn.linear_model import LogisticRegression\n",
    "from sklearn.ensemble import RandomForestClassifier \n",
    "from sklearn.model_selection import cross_val_score\n",
    "from sklearn.model_selection import GridSearchCV\n",
    "from sklearn import svm\n",
    "\n",
    "import matplotlib.pyplot as plt\n",
    "import time\n",
    "import pickle\n",
    "\n",
    "\n",
    "from sklearn.feature_extraction.text import TfidfVectorizer #, TfidfTransformer\n",
    "#TfidfVectorizer is used on sentences \n",
    "#TfidfTransformer is used on an existing count matrix, such as one returned by CountVectorizer\n",
    "#Tfidfvectorizer - Equivalent to CountVectorizer followed by TfidfTransformer..\n",
    "import spacy\n",
    "\n",
    "from sklearn.metrics import plot_confusion_matrix\n",
    "from sklearn.metrics import accuracy_score, precision_score, recall_score, confusion_matrix, f1_score"
   ],
   "outputs": [],
   "metadata": {}
  },
  {
   "cell_type": "code",
   "execution_count": 155,
   "source": [
    "def get_links(artist:str):    \n",
    "    \n",
    "    \"\"\"Function, that returns a list of songs links of an artist (www.lyrics.com) \"\"\"\n",
    "    try:\n",
    "        html=requests.get(f'https://www.lyrics.com/artist/{artist}').text  \n",
    "\n",
    "        html_soup = BeautifulSoup(html, 'html.parser')\n",
    "\n",
    "        link_list=[]\n",
    "        for link in html_soup.find_all(attrs={\"class\":\"tal qx\"}):\n",
    "            for link in link.find_all(\"a\"):\n",
    "                link=link.get('href')\n",
    "                lyr_link='https://www.lyrics.com/'+link\n",
    "            \n",
    "                link_list.append(lyr_link)\n",
    "        return link_list\n",
    "    except:\n",
    "        print(\"Connection refused by the server..\")\n",
    "        print(\"Let me sleep for 5 seconds\")\n",
    "        print(\"ZZzzzz...\")\n",
    "        time.sleep(10)"
   ],
   "outputs": [],
   "metadata": {}
  },
  {
   "cell_type": "code",
   "execution_count": 150,
   "source": [
    "def get_lyrics(song_link:str): \n",
    "    \"\"\"Function, that returns a string with song's lyrics (www.lyrics.com)\"\"\"\n",
    "    \n",
    "    string=''\n",
    "    try:\n",
    "        song_html=requests.get(song_link).text\n",
    "        lyrics_soup = BeautifulSoup(song_html, 'html.parser')\n",
    "\n",
    "        for section in lyrics_soup.find_all(attrs={\"class\":\"lyric-body\"}):\n",
    "            text=section.text.split()\n",
    "            for i in text:\n",
    "                string+=i.lower()+' '\n",
    "        return string\n",
    "    except:\n",
    "        print(\"Connection refused by the server..\")\n",
    "        print(\"Let me sleep for 5 seconds\")\n",
    "        print(\"ZZzzzz...\")\n",
    "        time.sleep(10)\n",
    "\n",
    "    "
   ],
   "outputs": [],
   "metadata": {}
  },
  {
   "cell_type": "code",
   "execution_count": 104,
   "source": [
    "eagles_links=get_links('eagles')       "
   ],
   "outputs": [],
   "metadata": {}
  },
  {
   "cell_type": "code",
   "execution_count": 152,
   "source": [
    "eagles_lyrics=[]\n",
    "for link in eagles_links:\n",
    "    eagles_lyrics.append(get_lyrics(link))"
   ],
   "outputs": [
    {
     "output_type": "stream",
     "name": "stdout",
     "text": [
      "Connection refused by the server..\n",
      "Let me sleep for 5 seconds\n",
      "ZZzzzz...\n",
      "Connection refused by the server..\n",
      "Let me sleep for 5 seconds\n",
      "ZZzzzz...\n",
      "Connection refused by the server..\n",
      "Let me sleep for 5 seconds\n",
      "ZZzzzz...\n"
     ]
    }
   ],
   "metadata": {
    "scrolled": true
   }
  },
  {
   "cell_type": "code",
   "execution_count": 156,
   "source": [
    "scorpions_links=get_links('scorpions')       "
   ],
   "outputs": [],
   "metadata": {}
  },
  {
   "cell_type": "code",
   "execution_count": 157,
   "source": [
    "scorpions_lyrics=[]\n",
    "for link in scorpions_links:\n",
    "    scorpions_lyrics.append(get_lyrics(link))"
   ],
   "outputs": [
    {
     "output_type": "stream",
     "name": "stdout",
     "text": [
      "Connection refused by the server..\n",
      "Let me sleep for 5 seconds\n",
      "ZZzzzz...\n",
      "Connection refused by the server..\n",
      "Let me sleep for 5 seconds\n",
      "ZZzzzz...\n",
      "Connection refused by the server..\n",
      "Let me sleep for 5 seconds\n",
      "ZZzzzz...\n"
     ]
    }
   ],
   "metadata": {}
  },
  {
   "cell_type": "code",
   "execution_count": 194,
   "source": [
    "#removing None's that were created as a result of using time function while scaping\n",
    "for i in eagles_lyrics:\n",
    "    if i==None:\n",
    "        eagles_lyrics.remove(i)\n",
    "\n",
    "for i in scorpions_lyrics:\n",
    "    if i==None:\n",
    "        scorpions_lyrics.remove(i)"
   ],
   "outputs": [],
   "metadata": {}
  },
  {
   "cell_type": "code",
   "execution_count": 198,
   "source": [
    "#saving pre spacy files\n",
    "for element in eagles_lyrics:\n",
    "      open(\"eagles_songs_prespacy.txt\", \"a+\").write(element+\"\\n\")\n",
    "\n",
    "for element in scorpions_lyrics:\n",
    "    open(\"scorpions_songs_prespacy.txt\", \"a+\").write(element+\"\\n\")"
   ],
   "outputs": [],
   "metadata": {}
  },
  {
   "cell_type": "markdown",
   "source": [
    "***Using Spacy to clean the data***"
   ],
   "metadata": {}
  },
  {
   "cell_type": "code",
   "execution_count": 199,
   "source": [
    "\n",
    "\n",
    "model = spacy.load('en_core_web_md')"
   ],
   "outputs": [],
   "metadata": {}
  },
  {
   "cell_type": "code",
   "execution_count": 8,
   "source": [
    "def clean_my_string(string):\n",
    "    \"\"\"use spacy to tokenize, lemmatize and remove stop words\"\"\"\n",
    "    clean_string = []\n",
    "    token_string = model(string)\n",
    "    for token in token_string:\n",
    "        if not token.is_stop and not token.is_punct and not token.like_num:\n",
    "            clean_string.append(token.lemma_)\n",
    "    return ' '.join(clean_string)"
   ],
   "outputs": [],
   "metadata": {}
  },
  {
   "cell_type": "code",
   "execution_count": 201,
   "source": [
    "clean_eagles=[]\n",
    "for item in eagles_lyrics: \n",
    "    item=clean_my_string(item)\n",
    "    clean_eagles.append(item)"
   ],
   "outputs": [],
   "metadata": {}
  },
  {
   "cell_type": "code",
   "execution_count": 224,
   "source": [
    "clean_scorpions=[]\n",
    "for item in scorpions_lyrics:   \n",
    "    item=clean_my_string(item)\n",
    "    clean_scorpions.append(item)"
   ],
   "outputs": [],
   "metadata": {}
  },
  {
   "cell_type": "code",
   "execution_count": 225,
   "source": [
    "#checking the difference in length after spacy cleaning\n",
    "print(len(eagles_lyrics[0]),len(clean_eagles[0]))\n",
    "print(len(scorpions_lyrics[0]),len(clean_scorpions[0]))"
   ],
   "outputs": [
    {
     "output_type": "stream",
     "name": "stdout",
     "text": [
      "777 484\n",
      "1213 658\n"
     ]
    }
   ],
   "metadata": {}
  },
  {
   "cell_type": "code",
   "execution_count": 368,
   "source": [
    "print(len(clean_eagles),len(clean_scorpions))"
   ],
   "outputs": [
    {
     "output_type": "stream",
     "name": "stdout",
     "text": [
      "1305 2033\n"
     ]
    }
   ],
   "metadata": {}
  },
  {
   "cell_type": "code",
   "execution_count": 235,
   "source": [
    "#saving to pickles\n",
    "\n",
    "with open('clean_eagles.pickle', 'wb') as file:\n",
    "    pickle.dump(clean_eagles,file)\n",
    "with open('clean_scorpions.pickle', 'wb') as file:\n",
    "    pickle.dump(clean_scorpions,file)    \n",
    "    "
   ],
   "outputs": [],
   "metadata": {}
  },
  {
   "cell_type": "code",
   "execution_count": 97,
   "source": [
    "\n",
    "#loading pickled files\n",
    "with open('clean_eagles.pickle', 'rb') as f:\n",
    "      clean_eagles = pickle.load(f)\n",
    "with open('clean_scorpions.pickle', 'rb') as f:\n",
    "      clean_scorpions = pickle.load(f)"
   ],
   "outputs": [],
   "metadata": {}
  },
  {
   "cell_type": "code",
   "execution_count": 173,
   "source": [
    "\n",
    "df1=pd.DataFrame({'lyrics':clean_scorpions, 'artist':0})"
   ],
   "outputs": [],
   "metadata": {}
  },
  {
   "cell_type": "code",
   "execution_count": 174,
   "source": [
    "df2=pd.DataFrame({'lyrics':clean_eagles, 'artist':1})"
   ],
   "outputs": [],
   "metadata": {}
  },
  {
   "cell_type": "code",
   "execution_count": 175,
   "source": [
    "df=pd.concat([df1,df2])"
   ],
   "outputs": [],
   "metadata": {}
  },
  {
   "cell_type": "code",
   "execution_count": 176,
   "source": [
    "df"
   ],
   "outputs": [
    {
     "output_type": "execute_result",
     "data": {
      "text/plain": [
       "                                                 lyrics  artist\n",
       "0     follow moskva gorky park listen wind change au...       0\n",
       "1     follow moskva gorky park listen wind change au...       0\n",
       "2     wise man say walk way dawn light wind blow fac...       0\n",
       "3     bear sound string song feeling close eye try w...       0\n",
       "4     time need time win love love love bring love s...       0\n",
       "...                                                 ...     ...\n",
       "1300  baby stand little head hand oh god believe hap...       1\n",
       "1301  dark desert highway cool wind hair warm smell ...       1\n",
       "1302  baby stand little head hand oh god believe hap...       1\n",
       "1303  dark desert highway cool wind hair warm smell ...       1\n",
       "1304  like way sparkle earring lay skin brown want s...       1\n",
       "\n",
       "[3338 rows x 2 columns]"
      ],
      "text/html": [
       "<div>\n",
       "<style scoped>\n",
       "    .dataframe tbody tr th:only-of-type {\n",
       "        vertical-align: middle;\n",
       "    }\n",
       "\n",
       "    .dataframe tbody tr th {\n",
       "        vertical-align: top;\n",
       "    }\n",
       "\n",
       "    .dataframe thead th {\n",
       "        text-align: right;\n",
       "    }\n",
       "</style>\n",
       "<table border=\"1\" class=\"dataframe\">\n",
       "  <thead>\n",
       "    <tr style=\"text-align: right;\">\n",
       "      <th></th>\n",
       "      <th>lyrics</th>\n",
       "      <th>artist</th>\n",
       "    </tr>\n",
       "  </thead>\n",
       "  <tbody>\n",
       "    <tr>\n",
       "      <th>0</th>\n",
       "      <td>follow moskva gorky park listen wind change au...</td>\n",
       "      <td>0</td>\n",
       "    </tr>\n",
       "    <tr>\n",
       "      <th>1</th>\n",
       "      <td>follow moskva gorky park listen wind change au...</td>\n",
       "      <td>0</td>\n",
       "    </tr>\n",
       "    <tr>\n",
       "      <th>2</th>\n",
       "      <td>wise man say walk way dawn light wind blow fac...</td>\n",
       "      <td>0</td>\n",
       "    </tr>\n",
       "    <tr>\n",
       "      <th>3</th>\n",
       "      <td>bear sound string song feeling close eye try w...</td>\n",
       "      <td>0</td>\n",
       "    </tr>\n",
       "    <tr>\n",
       "      <th>4</th>\n",
       "      <td>time need time win love love love bring love s...</td>\n",
       "      <td>0</td>\n",
       "    </tr>\n",
       "    <tr>\n",
       "      <th>...</th>\n",
       "      <td>...</td>\n",
       "      <td>...</td>\n",
       "    </tr>\n",
       "    <tr>\n",
       "      <th>1300</th>\n",
       "      <td>baby stand little head hand oh god believe hap...</td>\n",
       "      <td>1</td>\n",
       "    </tr>\n",
       "    <tr>\n",
       "      <th>1301</th>\n",
       "      <td>dark desert highway cool wind hair warm smell ...</td>\n",
       "      <td>1</td>\n",
       "    </tr>\n",
       "    <tr>\n",
       "      <th>1302</th>\n",
       "      <td>baby stand little head hand oh god believe hap...</td>\n",
       "      <td>1</td>\n",
       "    </tr>\n",
       "    <tr>\n",
       "      <th>1303</th>\n",
       "      <td>dark desert highway cool wind hair warm smell ...</td>\n",
       "      <td>1</td>\n",
       "    </tr>\n",
       "    <tr>\n",
       "      <th>1304</th>\n",
       "      <td>like way sparkle earring lay skin brown want s...</td>\n",
       "      <td>1</td>\n",
       "    </tr>\n",
       "  </tbody>\n",
       "</table>\n",
       "<p>3338 rows × 2 columns</p>\n",
       "</div>"
      ]
     },
     "metadata": {},
     "execution_count": 176
    }
   ],
   "metadata": {}
  },
  {
   "cell_type": "code",
   "execution_count": 39,
   "source": [
    "#saving df\n",
    "pickle.dump(df, open('df.pkl',\"wb\"))"
   ],
   "outputs": [],
   "metadata": {}
  },
  {
   "cell_type": "code",
   "execution_count": 177,
   "source": [
    "#reading saved df\n",
    "df=pd.read_pickle('df.pkl')\n",
    "df"
   ],
   "outputs": [
    {
     "output_type": "execute_result",
     "data": {
      "text/plain": [
       "                                                 lyrics  artist\n",
       "0     follow moskva gorky park listen wind change au...       0\n",
       "1     follow moskva gorky park listen wind change au...       0\n",
       "2     wise man say walk way dawn light wind blow fac...       0\n",
       "3     bear sound string song feeling close eye try w...       0\n",
       "4     time need time win love love love bring love s...       0\n",
       "...                                                 ...     ...\n",
       "1300  baby stand little head hand oh god believe hap...       1\n",
       "1301  dark desert highway cool wind hair warm smell ...       1\n",
       "1302  baby stand little head hand oh god believe hap...       1\n",
       "1303  dark desert highway cool wind hair warm smell ...       1\n",
       "1304  like way sparkle earring lay skin brown want s...       1\n",
       "\n",
       "[3338 rows x 2 columns]"
      ],
      "text/html": [
       "<div>\n",
       "<style scoped>\n",
       "    .dataframe tbody tr th:only-of-type {\n",
       "        vertical-align: middle;\n",
       "    }\n",
       "\n",
       "    .dataframe tbody tr th {\n",
       "        vertical-align: top;\n",
       "    }\n",
       "\n",
       "    .dataframe thead th {\n",
       "        text-align: right;\n",
       "    }\n",
       "</style>\n",
       "<table border=\"1\" class=\"dataframe\">\n",
       "  <thead>\n",
       "    <tr style=\"text-align: right;\">\n",
       "      <th></th>\n",
       "      <th>lyrics</th>\n",
       "      <th>artist</th>\n",
       "    </tr>\n",
       "  </thead>\n",
       "  <tbody>\n",
       "    <tr>\n",
       "      <th>0</th>\n",
       "      <td>follow moskva gorky park listen wind change au...</td>\n",
       "      <td>0</td>\n",
       "    </tr>\n",
       "    <tr>\n",
       "      <th>1</th>\n",
       "      <td>follow moskva gorky park listen wind change au...</td>\n",
       "      <td>0</td>\n",
       "    </tr>\n",
       "    <tr>\n",
       "      <th>2</th>\n",
       "      <td>wise man say walk way dawn light wind blow fac...</td>\n",
       "      <td>0</td>\n",
       "    </tr>\n",
       "    <tr>\n",
       "      <th>3</th>\n",
       "      <td>bear sound string song feeling close eye try w...</td>\n",
       "      <td>0</td>\n",
       "    </tr>\n",
       "    <tr>\n",
       "      <th>4</th>\n",
       "      <td>time need time win love love love bring love s...</td>\n",
       "      <td>0</td>\n",
       "    </tr>\n",
       "    <tr>\n",
       "      <th>...</th>\n",
       "      <td>...</td>\n",
       "      <td>...</td>\n",
       "    </tr>\n",
       "    <tr>\n",
       "      <th>1300</th>\n",
       "      <td>baby stand little head hand oh god believe hap...</td>\n",
       "      <td>1</td>\n",
       "    </tr>\n",
       "    <tr>\n",
       "      <th>1301</th>\n",
       "      <td>dark desert highway cool wind hair warm smell ...</td>\n",
       "      <td>1</td>\n",
       "    </tr>\n",
       "    <tr>\n",
       "      <th>1302</th>\n",
       "      <td>baby stand little head hand oh god believe hap...</td>\n",
       "      <td>1</td>\n",
       "    </tr>\n",
       "    <tr>\n",
       "      <th>1303</th>\n",
       "      <td>dark desert highway cool wind hair warm smell ...</td>\n",
       "      <td>1</td>\n",
       "    </tr>\n",
       "    <tr>\n",
       "      <th>1304</th>\n",
       "      <td>like way sparkle earring lay skin brown want s...</td>\n",
       "      <td>1</td>\n",
       "    </tr>\n",
       "  </tbody>\n",
       "</table>\n",
       "<p>3338 rows × 2 columns</p>\n",
       "</div>"
      ]
     },
     "metadata": {},
     "execution_count": 177
    }
   ],
   "metadata": {}
  },
  {
   "cell_type": "code",
   "execution_count": 178,
   "source": [
    "def clean_text_final(text):\n",
    "    'remove words containing numbers'\n",
    "    text = re.sub('\\w*\\d\\w*', '', text)\n",
    "    return text"
   ],
   "outputs": [],
   "metadata": {}
  },
  {
   "cell_type": "code",
   "execution_count": 179,
   "source": [
    "df['lyrics'] = df['lyrics'].apply(clean_text_final)"
   ],
   "outputs": [],
   "metadata": {}
  },
  {
   "cell_type": "code",
   "execution_count": 180,
   "source": [
    "\n",
    "#splitting the data\n",
    "X,y=df['lyrics'],df['artist']"
   ],
   "outputs": [],
   "metadata": {}
  },
  {
   "cell_type": "code",
   "execution_count": 181,
   "source": [
    "X_train, X_test, y_train, y_test = train_test_split(X, y, random_state=42)"
   ],
   "outputs": [],
   "metadata": {}
  },
  {
   "cell_type": "code",
   "execution_count": 182,
   "source": [
    "X_train.shape,y_train.shape"
   ],
   "outputs": [
    {
     "output_type": "execute_result",
     "data": {
      "text/plain": [
       "((2503,), (2503,))"
      ]
     },
     "metadata": {},
     "execution_count": 182
    }
   ],
   "metadata": {}
  },
  {
   "cell_type": "code",
   "execution_count": 183,
   "source": [
    "tf = TfidfVectorizer()"
   ],
   "outputs": [],
   "metadata": {}
  },
  {
   "cell_type": "code",
   "execution_count": 184,
   "source": [
    "vectorized_lyrics=tf.fit_transform(X_train)  #creating sparse matrix\n",
    "vectorized_lyrics"
   ],
   "outputs": [
    {
     "output_type": "execute_result",
     "data": {
      "text/plain": [
       "<2503x2542 sparse matrix of type '<class 'numpy.float64'>'\n",
       "\twith 108646 stored elements in Compressed Sparse Row format>"
      ]
     },
     "metadata": {},
     "execution_count": 184
    }
   ],
   "metadata": {
    "scrolled": true
   }
  },
  {
   "cell_type": "code",
   "execution_count": 185,
   "source": [
    "pickle.dump(tf,open('tf.pkl','wb'))   # saving for later use in Command-Line Interface"
   ],
   "outputs": [],
   "metadata": {}
  },
  {
   "cell_type": "code",
   "execution_count": 189,
   "source": [
    "#transforming X_test\n",
    "X_test_trans=tf.transform(X_test).toarray()"
   ],
   "outputs": [],
   "metadata": {}
  },
  {
   "cell_type": "code",
   "execution_count": 190,
   "source": [
    "# converting sparse matrix into a dense matrix to view it effectively\n",
    "tf_vectors=pd.DataFrame(vectorized_lyrics.todense().round(2), columns=tf.get_feature_names())  #index=X"
   ],
   "outputs": [],
   "metadata": {}
  },
  {
   "cell_type": "code",
   "execution_count": 191,
   "source": [
    "tf_vectors"
   ],
   "outputs": [
    {
     "output_type": "execute_result",
     "data": {
      "text/plain": [
       "      aaaayowwww  aah  abel  able  acacia  accept  accountant  ace  ache  \\\n",
       "0            0.0  0.0   0.0   0.0     0.0     0.0         0.0  0.0   0.0   \n",
       "1            0.0  0.0   0.0   0.0     0.0     0.0         0.0  0.0   0.0   \n",
       "2            0.0  0.0   0.0   0.0     0.0     0.0         0.0  0.0   0.0   \n",
       "3            0.0  0.0   0.0   0.0     0.0     0.0         0.0  0.0   0.0   \n",
       "4            0.0  0.0   0.0   0.0     0.0     0.0         0.0  0.0   0.0   \n",
       "...          ...  ...   ...   ...     ...     ...         ...  ...   ...   \n",
       "2498         0.0  0.0   0.0   0.0     0.0     0.0         0.0  0.0   0.0   \n",
       "2499         0.0  0.0   0.0   0.0     0.0     0.0         0.0  0.0   0.0   \n",
       "2500         0.0  0.0   0.0   0.0     0.0     0.0         0.0  0.0   0.0   \n",
       "2501         0.0  0.0   0.0   0.0     0.0     0.0         0.0  0.0   0.0   \n",
       "2502         0.0  0.0   0.0   0.0     0.0     0.0         0.0  0.0   0.0   \n",
       "\n",
       "      action  ...  yore  york  you  youall  youi  young  zenith  zone   zoo  \\\n",
       "0        0.0  ...   0.0   0.0  0.0     0.0   0.0    0.0     0.0   0.0  0.00   \n",
       "1        0.0  ...   0.0   0.0  0.0     0.0   0.0    0.0     0.0   0.0  0.00   \n",
       "2        0.0  ...   0.0   0.0  0.0     0.0   0.0    0.0     0.0   0.0  0.00   \n",
       "3        0.0  ...   0.0   0.0  0.0     0.0   0.0    0.0     0.0   0.0  0.00   \n",
       "4        0.0  ...   0.0   0.0  0.0     0.0   0.0    0.0     0.0   0.0  0.00   \n",
       "...      ...  ...   ...   ...  ...     ...   ...    ...     ...   ...   ...   \n",
       "2498     0.0  ...   0.0   0.0  0.0     0.0   0.0    0.0     0.0   0.0  0.00   \n",
       "2499     0.0  ...   0.0   0.0  0.0     0.0   0.0    0.0     0.0   0.0  0.00   \n",
       "2500     0.0  ...   0.0   0.0  0.0     0.0   0.0    0.0     0.0   0.0  0.57   \n",
       "2501     0.0  ...   0.0   0.0  0.0     0.0   0.0    0.0     0.0   0.0  0.00   \n",
       "2502     0.0  ...   0.0   0.0  0.0     0.0   0.0    0.0     0.0   0.0  0.00   \n",
       "\n",
       "       zu  \n",
       "0     0.0  \n",
       "1     0.0  \n",
       "2     0.0  \n",
       "3     0.0  \n",
       "4     0.0  \n",
       "...   ...  \n",
       "2498  0.0  \n",
       "2499  0.0  \n",
       "2500  0.0  \n",
       "2501  0.0  \n",
       "2502  0.0  \n",
       "\n",
       "[2503 rows x 2542 columns]"
      ],
      "text/html": [
       "<div>\n",
       "<style scoped>\n",
       "    .dataframe tbody tr th:only-of-type {\n",
       "        vertical-align: middle;\n",
       "    }\n",
       "\n",
       "    .dataframe tbody tr th {\n",
       "        vertical-align: top;\n",
       "    }\n",
       "\n",
       "    .dataframe thead th {\n",
       "        text-align: right;\n",
       "    }\n",
       "</style>\n",
       "<table border=\"1\" class=\"dataframe\">\n",
       "  <thead>\n",
       "    <tr style=\"text-align: right;\">\n",
       "      <th></th>\n",
       "      <th>aaaayowwww</th>\n",
       "      <th>aah</th>\n",
       "      <th>abel</th>\n",
       "      <th>able</th>\n",
       "      <th>acacia</th>\n",
       "      <th>accept</th>\n",
       "      <th>accountant</th>\n",
       "      <th>ace</th>\n",
       "      <th>ache</th>\n",
       "      <th>action</th>\n",
       "      <th>...</th>\n",
       "      <th>yore</th>\n",
       "      <th>york</th>\n",
       "      <th>you</th>\n",
       "      <th>youall</th>\n",
       "      <th>youi</th>\n",
       "      <th>young</th>\n",
       "      <th>zenith</th>\n",
       "      <th>zone</th>\n",
       "      <th>zoo</th>\n",
       "      <th>zu</th>\n",
       "    </tr>\n",
       "  </thead>\n",
       "  <tbody>\n",
       "    <tr>\n",
       "      <th>0</th>\n",
       "      <td>0.0</td>\n",
       "      <td>0.0</td>\n",
       "      <td>0.0</td>\n",
       "      <td>0.0</td>\n",
       "      <td>0.0</td>\n",
       "      <td>0.0</td>\n",
       "      <td>0.0</td>\n",
       "      <td>0.0</td>\n",
       "      <td>0.0</td>\n",
       "      <td>0.0</td>\n",
       "      <td>...</td>\n",
       "      <td>0.0</td>\n",
       "      <td>0.0</td>\n",
       "      <td>0.0</td>\n",
       "      <td>0.0</td>\n",
       "      <td>0.0</td>\n",
       "      <td>0.0</td>\n",
       "      <td>0.0</td>\n",
       "      <td>0.0</td>\n",
       "      <td>0.00</td>\n",
       "      <td>0.0</td>\n",
       "    </tr>\n",
       "    <tr>\n",
       "      <th>1</th>\n",
       "      <td>0.0</td>\n",
       "      <td>0.0</td>\n",
       "      <td>0.0</td>\n",
       "      <td>0.0</td>\n",
       "      <td>0.0</td>\n",
       "      <td>0.0</td>\n",
       "      <td>0.0</td>\n",
       "      <td>0.0</td>\n",
       "      <td>0.0</td>\n",
       "      <td>0.0</td>\n",
       "      <td>...</td>\n",
       "      <td>0.0</td>\n",
       "      <td>0.0</td>\n",
       "      <td>0.0</td>\n",
       "      <td>0.0</td>\n",
       "      <td>0.0</td>\n",
       "      <td>0.0</td>\n",
       "      <td>0.0</td>\n",
       "      <td>0.0</td>\n",
       "      <td>0.00</td>\n",
       "      <td>0.0</td>\n",
       "    </tr>\n",
       "    <tr>\n",
       "      <th>2</th>\n",
       "      <td>0.0</td>\n",
       "      <td>0.0</td>\n",
       "      <td>0.0</td>\n",
       "      <td>0.0</td>\n",
       "      <td>0.0</td>\n",
       "      <td>0.0</td>\n",
       "      <td>0.0</td>\n",
       "      <td>0.0</td>\n",
       "      <td>0.0</td>\n",
       "      <td>0.0</td>\n",
       "      <td>...</td>\n",
       "      <td>0.0</td>\n",
       "      <td>0.0</td>\n",
       "      <td>0.0</td>\n",
       "      <td>0.0</td>\n",
       "      <td>0.0</td>\n",
       "      <td>0.0</td>\n",
       "      <td>0.0</td>\n",
       "      <td>0.0</td>\n",
       "      <td>0.00</td>\n",
       "      <td>0.0</td>\n",
       "    </tr>\n",
       "    <tr>\n",
       "      <th>3</th>\n",
       "      <td>0.0</td>\n",
       "      <td>0.0</td>\n",
       "      <td>0.0</td>\n",
       "      <td>0.0</td>\n",
       "      <td>0.0</td>\n",
       "      <td>0.0</td>\n",
       "      <td>0.0</td>\n",
       "      <td>0.0</td>\n",
       "      <td>0.0</td>\n",
       "      <td>0.0</td>\n",
       "      <td>...</td>\n",
       "      <td>0.0</td>\n",
       "      <td>0.0</td>\n",
       "      <td>0.0</td>\n",
       "      <td>0.0</td>\n",
       "      <td>0.0</td>\n",
       "      <td>0.0</td>\n",
       "      <td>0.0</td>\n",
       "      <td>0.0</td>\n",
       "      <td>0.00</td>\n",
       "      <td>0.0</td>\n",
       "    </tr>\n",
       "    <tr>\n",
       "      <th>4</th>\n",
       "      <td>0.0</td>\n",
       "      <td>0.0</td>\n",
       "      <td>0.0</td>\n",
       "      <td>0.0</td>\n",
       "      <td>0.0</td>\n",
       "      <td>0.0</td>\n",
       "      <td>0.0</td>\n",
       "      <td>0.0</td>\n",
       "      <td>0.0</td>\n",
       "      <td>0.0</td>\n",
       "      <td>...</td>\n",
       "      <td>0.0</td>\n",
       "      <td>0.0</td>\n",
       "      <td>0.0</td>\n",
       "      <td>0.0</td>\n",
       "      <td>0.0</td>\n",
       "      <td>0.0</td>\n",
       "      <td>0.0</td>\n",
       "      <td>0.0</td>\n",
       "      <td>0.00</td>\n",
       "      <td>0.0</td>\n",
       "    </tr>\n",
       "    <tr>\n",
       "      <th>...</th>\n",
       "      <td>...</td>\n",
       "      <td>...</td>\n",
       "      <td>...</td>\n",
       "      <td>...</td>\n",
       "      <td>...</td>\n",
       "      <td>...</td>\n",
       "      <td>...</td>\n",
       "      <td>...</td>\n",
       "      <td>...</td>\n",
       "      <td>...</td>\n",
       "      <td>...</td>\n",
       "      <td>...</td>\n",
       "      <td>...</td>\n",
       "      <td>...</td>\n",
       "      <td>...</td>\n",
       "      <td>...</td>\n",
       "      <td>...</td>\n",
       "      <td>...</td>\n",
       "      <td>...</td>\n",
       "      <td>...</td>\n",
       "      <td>...</td>\n",
       "    </tr>\n",
       "    <tr>\n",
       "      <th>2498</th>\n",
       "      <td>0.0</td>\n",
       "      <td>0.0</td>\n",
       "      <td>0.0</td>\n",
       "      <td>0.0</td>\n",
       "      <td>0.0</td>\n",
       "      <td>0.0</td>\n",
       "      <td>0.0</td>\n",
       "      <td>0.0</td>\n",
       "      <td>0.0</td>\n",
       "      <td>0.0</td>\n",
       "      <td>...</td>\n",
       "      <td>0.0</td>\n",
       "      <td>0.0</td>\n",
       "      <td>0.0</td>\n",
       "      <td>0.0</td>\n",
       "      <td>0.0</td>\n",
       "      <td>0.0</td>\n",
       "      <td>0.0</td>\n",
       "      <td>0.0</td>\n",
       "      <td>0.00</td>\n",
       "      <td>0.0</td>\n",
       "    </tr>\n",
       "    <tr>\n",
       "      <th>2499</th>\n",
       "      <td>0.0</td>\n",
       "      <td>0.0</td>\n",
       "      <td>0.0</td>\n",
       "      <td>0.0</td>\n",
       "      <td>0.0</td>\n",
       "      <td>0.0</td>\n",
       "      <td>0.0</td>\n",
       "      <td>0.0</td>\n",
       "      <td>0.0</td>\n",
       "      <td>0.0</td>\n",
       "      <td>...</td>\n",
       "      <td>0.0</td>\n",
       "      <td>0.0</td>\n",
       "      <td>0.0</td>\n",
       "      <td>0.0</td>\n",
       "      <td>0.0</td>\n",
       "      <td>0.0</td>\n",
       "      <td>0.0</td>\n",
       "      <td>0.0</td>\n",
       "      <td>0.00</td>\n",
       "      <td>0.0</td>\n",
       "    </tr>\n",
       "    <tr>\n",
       "      <th>2500</th>\n",
       "      <td>0.0</td>\n",
       "      <td>0.0</td>\n",
       "      <td>0.0</td>\n",
       "      <td>0.0</td>\n",
       "      <td>0.0</td>\n",
       "      <td>0.0</td>\n",
       "      <td>0.0</td>\n",
       "      <td>0.0</td>\n",
       "      <td>0.0</td>\n",
       "      <td>0.0</td>\n",
       "      <td>...</td>\n",
       "      <td>0.0</td>\n",
       "      <td>0.0</td>\n",
       "      <td>0.0</td>\n",
       "      <td>0.0</td>\n",
       "      <td>0.0</td>\n",
       "      <td>0.0</td>\n",
       "      <td>0.0</td>\n",
       "      <td>0.0</td>\n",
       "      <td>0.57</td>\n",
       "      <td>0.0</td>\n",
       "    </tr>\n",
       "    <tr>\n",
       "      <th>2501</th>\n",
       "      <td>0.0</td>\n",
       "      <td>0.0</td>\n",
       "      <td>0.0</td>\n",
       "      <td>0.0</td>\n",
       "      <td>0.0</td>\n",
       "      <td>0.0</td>\n",
       "      <td>0.0</td>\n",
       "      <td>0.0</td>\n",
       "      <td>0.0</td>\n",
       "      <td>0.0</td>\n",
       "      <td>...</td>\n",
       "      <td>0.0</td>\n",
       "      <td>0.0</td>\n",
       "      <td>0.0</td>\n",
       "      <td>0.0</td>\n",
       "      <td>0.0</td>\n",
       "      <td>0.0</td>\n",
       "      <td>0.0</td>\n",
       "      <td>0.0</td>\n",
       "      <td>0.00</td>\n",
       "      <td>0.0</td>\n",
       "    </tr>\n",
       "    <tr>\n",
       "      <th>2502</th>\n",
       "      <td>0.0</td>\n",
       "      <td>0.0</td>\n",
       "      <td>0.0</td>\n",
       "      <td>0.0</td>\n",
       "      <td>0.0</td>\n",
       "      <td>0.0</td>\n",
       "      <td>0.0</td>\n",
       "      <td>0.0</td>\n",
       "      <td>0.0</td>\n",
       "      <td>0.0</td>\n",
       "      <td>...</td>\n",
       "      <td>0.0</td>\n",
       "      <td>0.0</td>\n",
       "      <td>0.0</td>\n",
       "      <td>0.0</td>\n",
       "      <td>0.0</td>\n",
       "      <td>0.0</td>\n",
       "      <td>0.0</td>\n",
       "      <td>0.0</td>\n",
       "      <td>0.00</td>\n",
       "      <td>0.0</td>\n",
       "    </tr>\n",
       "  </tbody>\n",
       "</table>\n",
       "<p>2503 rows × 2542 columns</p>\n",
       "</div>"
      ]
     },
     "metadata": {},
     "execution_count": 191
    }
   ],
   "metadata": {}
  },
  {
   "cell_type": "code",
   "execution_count": null,
   "source": [],
   "outputs": [],
   "metadata": {}
  },
  {
   "cell_type": "code",
   "execution_count": 113,
   "source": [
    "def print_evaluations(X_test,y_test, model):\n",
    "    \"\"\"Model evaluation metrics\"\"\"\n",
    "    y_pred=model.predict(X_test)\n",
    "\n",
    "    print(f'Accuracy: {round(accuracy_score(y_test, y_pred), 3)}')\n",
    "    print(f'Precision: {round(precision_score(y_test, y_pred), 3)}')\n",
    "    print(f'Recall: {round(recall_score(y_test, y_pred), 3)}')\n",
    "    print(f'F1-score: {round(f1_score(y_test, y_pred), 3)}')\n",
    "    plot_confusion_matrix(model, X_test, y_test,cmap=plt.cm.Blues,display_labels=['Scorpions', 'Eagles'])\n",
    "    \n",
    "  "
   ],
   "outputs": [],
   "metadata": {}
  },
  {
   "cell_type": "markdown",
   "source": [
    "***Logreg***"
   ],
   "metadata": {}
  },
  {
   "cell_type": "code",
   "execution_count": 192,
   "source": [
    "\n",
    "model=LogisticRegression()\n",
    "model.fit(tf_vectors,y_train)\n",
    "print(\"Train score :\",model.score(tf_vectors,y_train))"
   ],
   "outputs": [
    {
     "output_type": "stream",
     "name": "stdout",
     "text": [
      "Train score : 0.9588493807431082\n"
     ]
    }
   ],
   "metadata": {}
  },
  {
   "cell_type": "code",
   "execution_count": 193,
   "source": [
    "acc_log=round(model.score(X_test_trans,y_test),3) #saving for later model comparison"
   ],
   "outputs": [],
   "metadata": {}
  },
  {
   "cell_type": "code",
   "execution_count": 194,
   "source": [
    "accuracy=cross_val_score(model,tf_vectors,y_train)\n",
    "print(\"Cross-validation score :\", accuracy.mean())"
   ],
   "outputs": [
    {
     "output_type": "stream",
     "name": "stdout",
     "text": [
      "Cross-validation score : 0.9504590818363272\n"
     ]
    }
   ],
   "metadata": {
    "scrolled": true
   }
  },
  {
   "cell_type": "code",
   "execution_count": 195,
   "source": [
    "#testing one song\n",
    "test_song=[\"I'm gettin' out of control oh,oh,oh she's cool water, her momma taught her I got news, she's\"]\n",
    "test=tf.transform(test_song)\n",
    "print(model.predict(test))"
   ],
   "outputs": [
    {
     "output_type": "stream",
     "name": "stdout",
     "text": [
      "[1]\n"
     ]
    }
   ],
   "metadata": {}
  },
  {
   "cell_type": "code",
   "execution_count": 196,
   "source": [
    "print_evaluations(X_test_trans, y_test, model)"
   ],
   "outputs": [
    {
     "output_type": "stream",
     "name": "stdout",
     "text": [
      "Accuracy: 0.964\n",
      "Precision: 0.996\n",
      "Recall: 0.903\n",
      "F1-score: 0.948\n"
     ]
    },
    {
     "output_type": "display_data",
     "data": {
      "text/plain": [
       "<Figure size 432x288 with 2 Axes>"
      ],
      "image/png": "[encoded data removed]"
     },
     "metadata": {
      "needs_background": "light"
     }
    }
   ],
   "metadata": {
    "scrolled": false
   }
  },
  {
   "cell_type": "code",
   "execution_count": null,
   "source": [],
   "outputs": [],
   "metadata": {}
  },
  {
   "cell_type": "markdown",
   "source": [
    "***Naive Bayes***"
   ],
   "metadata": {}
  },
  {
   "cell_type": "code",
   "execution_count": 66,
   "source": [
    "from sklearn.naive_bayes import MultinomialNB\n",
    "nb = MultinomialNB()\n",
    "nb.fit(tf_vectors,y_train)\n",
    "print(\"Train score :\",nb.score(tf_vectors,y_train))"
   ],
   "outputs": [
    {
     "output_type": "stream",
     "name": "stdout",
     "text": [
      "Train score : 0.9536556132640831\n"
     ]
    }
   ],
   "metadata": {}
  },
  {
   "cell_type": "code",
   "execution_count": 67,
   "source": [
    "acc_nb=round(nb.score(X_test_trans,y_test),3) #saving for later model comparison"
   ],
   "outputs": [],
   "metadata": {}
  },
  {
   "cell_type": "code",
   "execution_count": 68,
   "source": [
    "accuracy=cross_val_score(nb,tf_vectors,y_train)\n",
    "print(\"Cross-validation score :\", accuracy.mean())"
   ],
   "outputs": [
    {
     "output_type": "stream",
     "name": "stdout",
     "text": [
      "Cross-validation score : 0.9384726546906188\n"
     ]
    }
   ],
   "metadata": {
    "scrolled": true
   }
  },
  {
   "cell_type": "code",
   "execution_count": 69,
   "source": [
    "print_evaluations(X_test_trans, y_test, nb)"
   ],
   "outputs": [
    {
     "output_type": "stream",
     "name": "stdout",
     "text": [
      "Accuracy: 0.953\n",
      "Precision: 0.989\n",
      "Recall: 0.88\n",
      "F1-score: 0.931\n"
     ]
    },
    {
     "output_type": "display_data",
     "data": {
      "text/plain": [
       "<Figure size 432x288 with 2 Axes>"
      ],
      "image/png": "[encoded data removed]"
     },
     "metadata": {
      "needs_background": "light"
     }
    }
   ],
   "metadata": {
    "scrolled": true
   }
  },
  {
   "cell_type": "code",
   "execution_count": null,
   "source": [],
   "outputs": [],
   "metadata": {}
  },
  {
   "cell_type": "markdown",
   "source": [
    "***SVM***"
   ],
   "metadata": {}
  },
  {
   "cell_type": "code",
   "execution_count": 70,
   "source": [
    "svm_clf=svm.SVC(kernel='linear')\n",
    "svm_clf.fit(tf_vectors,y_train)\n",
    "print(\"Train score :\",svm_clf.score(tf_vectors,y_train))"
   ],
   "outputs": [
    {
     "output_type": "stream",
     "name": "stdout",
     "text": [
      "Train score : 0.9792249300838993\n"
     ]
    }
   ],
   "metadata": {}
  },
  {
   "cell_type": "code",
   "execution_count": 71,
   "source": [
    "acc_svm=round(svm_clf.score(X_test_trans,y_test),3) #saving for later model comparison"
   ],
   "outputs": [],
   "metadata": {}
  },
  {
   "cell_type": "code",
   "execution_count": 72,
   "source": [
    "accuracy=cross_val_score(svm_clf,tf_vectors,y_train)\n",
    "print(\"Cross-validation score :\", accuracy.mean())"
   ],
   "outputs": [
    {
     "output_type": "stream",
     "name": "stdout",
     "text": [
      "Cross-validation score : 0.9740319361277445\n"
     ]
    }
   ],
   "metadata": {}
  },
  {
   "cell_type": "code",
   "execution_count": 73,
   "source": [
    "print_evaluations(X_test_trans, y_test, svm_clf)"
   ],
   "outputs": [
    {
     "output_type": "stream",
     "name": "stdout",
     "text": [
      "Accuracy: 0.984\n",
      "Precision: 0.958\n",
      "Recall: 1.0\n",
      "F1-score: 0.979\n"
     ]
    },
    {
     "output_type": "display_data",
     "data": {
      "text/plain": [
       "<Figure size 432x288 with 2 Axes>"
      ],
      "image/png": "[encoded data removed]"
     },
     "metadata": {
      "needs_background": "light"
     }
    }
   ],
   "metadata": {}
  },
  {
   "cell_type": "markdown",
   "source": [
    "***RandomForest***"
   ],
   "metadata": {}
  },
  {
   "cell_type": "code",
   "execution_count": 114,
   "source": [
    "forest = RandomForestClassifier()"
   ],
   "outputs": [],
   "metadata": {}
  },
  {
   "cell_type": "code",
   "execution_count": 75,
   "source": [
    "from tqdm import tqdm_notebook\n",
    "from tqdm.notebook import tqdm"
   ],
   "outputs": [],
   "metadata": {}
  },
  {
   "cell_type": "code",
   "execution_count": 83,
   "source": [
    "#searching for best max_depth\n",
    "forest_params = {\"max_depth\": range(50,70)}\n",
    "\n",
    "forest_grid = GridSearchCV(forest, forest_params, cv=5, verbose=True)\n",
    "\n",
    "forest_grid.fit(tf_vectors,y_train)\n",
    "\n",
    "forest_grid.best_params_, forest_grid.best_score_ "
   ],
   "outputs": [
    {
     "output_type": "stream",
     "name": "stdout",
     "text": [
      "Fitting 5 folds for each of 20 candidates, totalling 100 fits\n"
     ]
    },
    {
     "output_type": "execute_result",
     "data": {
      "text/plain": [
       "({'max_depth': 58}, 0.9800247504990018)"
      ]
     },
     "metadata": {},
     "execution_count": 83
    }
   ],
   "metadata": {
    "scrolled": true
   }
  },
  {
   "cell_type": "code",
   "execution_count": 115,
   "source": [
    "forest = RandomForestClassifier(n_estimators=100, max_depth=58)"
   ],
   "outputs": [],
   "metadata": {}
  },
  {
   "cell_type": "code",
   "execution_count": 116,
   "source": [
    "forest.fit(tf_vectors,y_train)\n",
    "print(\"Train score :\",forest.score(tf_vectors,y_train))"
   ],
   "outputs": [
    {
     "output_type": "stream",
     "name": "stdout",
     "text": [
      "Train score : 0.9804234918098282\n"
     ]
    }
   ],
   "metadata": {
    "scrolled": true
   }
  },
  {
   "cell_type": "code",
   "execution_count": 117,
   "source": [
    "pickle.dump(forest, open('rf_clf.pkl', 'wb')) # saving for later use in Command-Line Interface"
   ],
   "outputs": [],
   "metadata": {}
  },
  {
   "cell_type": "code",
   "execution_count": 86,
   "source": [
    "acc_rf=round(forest.score(X_test_trans,y_test),3)  #saving for later model comparison"
   ],
   "outputs": [],
   "metadata": {}
  },
  {
   "cell_type": "code",
   "execution_count": 87,
   "source": [
    "accuracy=cross_val_score(forest,tf_vectors,y_train)\n",
    "print(\"Cross-validation score :\", accuracy.mean())"
   ],
   "outputs": [
    {
     "output_type": "stream",
     "name": "stdout",
     "text": [
      "Cross-validation score : 0.9788255489021956\n"
     ]
    }
   ],
   "metadata": {}
  },
  {
   "cell_type": "code",
   "execution_count": 88,
   "source": [
    "print_evaluations(X_test_trans, y_test, forest)"
   ],
   "outputs": [
    {
     "output_type": "stream",
     "name": "stdout",
     "text": [
      "Accuracy: 0.986\n",
      "Precision: 0.965\n",
      "Recall: 0.997\n",
      "F1-score: 0.98\n"
     ]
    },
    {
     "output_type": "display_data",
     "data": {
      "text/plain": [
       "<Figure size 432x288 with 2 Axes>"
      ],
      "image/png": "[encoded data removed]"
     },
     "metadata": {
      "needs_background": "light"
     }
    }
   ],
   "metadata": {}
  },
  {
   "cell_type": "markdown",
   "source": [
    "***Model comparison***"
   ],
   "metadata": {}
  },
  {
   "cell_type": "code",
   "execution_count": 89,
   "source": [
    "models = pd.DataFrame({\n",
    "    'Model': ['Logistic Regression','Naive Bayes', 'Support Vector Machine', 'Random Forest'],\n",
    "    \n",
    "    'Score': [acc_log, acc_nb, acc_svm, acc_rf]\n",
    "    })\n",
    "\n",
    "models.sort_values(by='Score', ascending=False)"
   ],
   "outputs": [
    {
     "output_type": "execute_result",
     "data": {
      "text/plain": [
       "                    Model  Score\n",
       "3           Random Forest  0.986\n",
       "2  Support Vector Machine  0.984\n",
       "0     Logistic Regression  0.964\n",
       "1             Naive Bayes  0.953"
      ],
      "text/html": [
       "<div>\n",
       "<style scoped>\n",
       "    .dataframe tbody tr th:only-of-type {\n",
       "        vertical-align: middle;\n",
       "    }\n",
       "\n",
       "    .dataframe tbody tr th {\n",
       "        vertical-align: top;\n",
       "    }\n",
       "\n",
       "    .dataframe thead th {\n",
       "        text-align: right;\n",
       "    }\n",
       "</style>\n",
       "<table border=\"1\" class=\"dataframe\">\n",
       "  <thead>\n",
       "    <tr style=\"text-align: right;\">\n",
       "      <th></th>\n",
       "      <th>Model</th>\n",
       "      <th>Score</th>\n",
       "    </tr>\n",
       "  </thead>\n",
       "  <tbody>\n",
       "    <tr>\n",
       "      <th>3</th>\n",
       "      <td>Random Forest</td>\n",
       "      <td>0.986</td>\n",
       "    </tr>\n",
       "    <tr>\n",
       "      <th>2</th>\n",
       "      <td>Support Vector Machine</td>\n",
       "      <td>0.984</td>\n",
       "    </tr>\n",
       "    <tr>\n",
       "      <th>0</th>\n",
       "      <td>Logistic Regression</td>\n",
       "      <td>0.964</td>\n",
       "    </tr>\n",
       "    <tr>\n",
       "      <th>1</th>\n",
       "      <td>Naive Bayes</td>\n",
       "      <td>0.953</td>\n",
       "    </tr>\n",
       "  </tbody>\n",
       "</table>\n",
       "</div>"
      ]
     },
     "metadata": {},
     "execution_count": 89
    }
   ],
   "metadata": {}
  },
  {
   "cell_type": "code",
   "execution_count": 90,
   "source": [
    "from sklearn import metrics\n",
    "fig, axes = plt.subplots(1,1, figsize=(8,5))\n",
    "metrics.plot_roc_curve(model, X_test_trans, y_test, ax=axes)\n",
    "metrics.plot_roc_curve(nb, X_test_trans, y_test, ax=axes)\n",
    "metrics.plot_roc_curve(svm_clf, X_test_trans, y_test,ax=axes)\n",
    "metrics.plot_roc_curve(forest, X_test_trans, y_test, ax=axes)"
   ],
   "outputs": [
    {
     "output_type": "execute_result",
     "data": {
      "text/plain": [
       "<sklearn.metrics._plot.roc_curve.RocCurveDisplay at 0x7fcff68fc2b0>"
      ]
     },
     "metadata": {},
     "execution_count": 90
    },
    {
     "output_type": "display_data",
     "data": {
      "text/plain": [
       "<Figure size 576x360 with 1 Axes>"
      ],
      "image/png": "[encoded data removed]"
     },
     "metadata": {
      "needs_background": "light"
     }
    }
   ],
   "metadata": {}
  },
  {
   "cell_type": "code",
   "execution_count": null,
   "source": [],
   "outputs": [],
   "metadata": {}
  }
 ],
 "metadata": {
  "kernelspec": {
   "display_name": "Python 3",
   "language": "python",
   "name": "python3"
  },
  "language_info": {
   "codemirror_mode": {
    "name": "ipython",
    "version": 3
   },
   "file_extension": ".py",
   "mimetype": "text/x-python",
   "name": "python",
   "nbconvert_exporter": "python",
   "pygments_lexer": "ipython3",
   "version": "3.8.5"
  }
 },
 "nbformat": 4,
 "nbformat_minor": 4
}